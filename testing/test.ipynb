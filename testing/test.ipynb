{
 "cells": [
  {
   "cell_type": "code",
   "id": "initial_id",
   "metadata": {
    "collapsed": true,
    "ExecuteTime": {
     "end_time": "2025-03-07T23:46:40.319693Z",
     "start_time": "2025-03-07T23:46:40.214696Z"
    }
   },
   "source": [
    "from src.robinhood_api.api_access import CryptoAPITrading\n",
    "\n",
    "%load_ext autoreload\n",
    "%autoreload 2"
   ],
   "outputs": [
    {
     "name": "stdout",
     "output_type": "stream",
     "text": [
      "The autoreload extension is already loaded. To reload it, use:\n",
      "  %reload_ext autoreload\n"
     ]
    }
   ],
   "execution_count": 25
  },
  {
   "cell_type": "code",
   "source": [
    "# Create an instance of the CryptoAPITrading which accesses the Robinhood API\n",
    "api_trading_client = CryptoAPITrading()\n",
    "\n",
    "api_trading_client.account.get_account()"
   ],
   "metadata": {
    "collapsed": false,
    "ExecuteTime": {
     "end_time": "2025-03-07T23:46:42.787258Z",
     "start_time": "2025-03-07T23:46:42.393509Z"
    }
   },
   "id": "cba58354ad630e44",
   "outputs": [
    {
     "data": {
      "text/plain": [
       "{'account_number': '311061556262',\n",
       " 'status': 'active',\n",
       " 'buying_power': '1.4400',\n",
       " 'buying_power_currency': 'USD'}"
      ]
     },
     "execution_count": 26,
     "metadata": {},
     "output_type": "execute_result"
    }
   ],
   "execution_count": 26
  },
  {
   "cell_type": "code",
   "source": "api_trading_client.account.get_holdings()",
   "metadata": {
    "collapsed": false,
    "ExecuteTime": {
     "end_time": "2025-03-07T23:46:45.874043Z",
     "start_time": "2025-03-07T23:46:45.661083Z"
    }
   },
   "id": "88c51bb126f2c1d2",
   "outputs": [
    {
     "data": {
      "text/plain": [
       "{'next': None,\n",
       " 'previous': None,\n",
       " 'results': [{'account_number': '311061556262',\n",
       "   'asset_code': 'PEPE',\n",
       "   'total_quantity': '115412.000000000000000000',\n",
       "   'quantity_available_for_trading': '115412.000000000000000000'},\n",
       "  {'account_number': '311061556262',\n",
       "   'asset_code': 'AVAX',\n",
       "   'total_quantity': '0.019000000000000000',\n",
       "   'quantity_available_for_trading': '0.019000000000000000'}]}"
      ]
     },
     "execution_count": 27,
     "metadata": {},
     "output_type": "execute_result"
    }
   ],
   "execution_count": 27
  },
  {
   "metadata": {
    "ExecuteTime": {
     "end_time": "2025-03-07T23:46:47.910869Z",
     "start_time": "2025-03-07T23:46:47.717671Z"
    }
   },
   "cell_type": "code",
   "source": [
    "# ask_inclusive_of_buy_spread is the market buy\n",
    "# price is the price that robinhood shows\n",
    "\n",
    "# want to make a chart that updates every 10 seconds wit the price\n",
    "\n",
    "bid, ask = api_trading_client.market_data.get_estimated_price(symbol=\"BTC-USD\", side=\"both\", quantity=1.0)['results']"
   ],
   "id": "e0407e006a418742",
   "outputs": [],
   "execution_count": 28
  },
  {
   "metadata": {
    "ExecuteTime": {
     "end_time": "2025-03-07T23:47:01.033808Z",
     "start_time": "2025-03-07T23:47:00.968353Z"
    }
   },
   "cell_type": "code",
   "source": [
    "import os\n",
    "import glob\n",
    "\n",
    "def load_data(ticker, start_date=None, end_date=None, project_root='/Users/nathanielislas/PycharmProjects/CryptoTrading/'):\n",
    "    # Get project root path\n",
    "    #project_root = os.path.abspath(os.path.join(os.path.dirname(__file__), '..'))\n",
    "    \n",
    "    # Define data path relative to project root\n",
    "    path_pattern = os.path.join(project_root, 'data', ticker, '*.parquet')\n",
    "    files = glob.glob(path_pattern)\n",
    "\n",
    "    df_list = []\n",
    "\n",
    "    for file in files:\n",
    "        date = os.path.basename(file).split('.')[0]\n",
    "\n",
    "        # Load file if within date range or if no date range is specified\n",
    "        if (start_date is None or end_date is None) or (start_date <= date <= end_date):\n",
    "            df = pd.read_parquet(file)\n",
    "            df_list.append(df)\n",
    "\n",
    "    # Check if any data was loaded\n",
    "    if not df_list:\n",
    "        print(f\"No data found for {ticker} in the specified date range.\")\n",
    "        return pd.DataFrame()  # Return empty DataFrame if no data\n",
    "\n",
    "    # Concatenate and return combined DataFrame\n",
    "    return pd.concat(df_list).reset_index(drop=True)"
   ],
   "id": "480705153f987ddd",
   "outputs": [],
   "execution_count": 29
  },
  {
   "metadata": {
    "ExecuteTime": {
     "end_time": "2025-03-10T17:39:40.607035Z",
     "start_time": "2025-03-10T17:39:39.940469Z"
    }
   },
   "cell_type": "code",
   "source": [
    "data = load_data(ticker='BTC-USD')\n",
    "data"
   ],
   "id": "4f76df6a0b5f7fa7",
   "outputs": [
    {
     "data": {
      "text/plain": [
       "       symbol      price_bid quantity side_bid bid_inclusive_of_sell_spread  \\\n",
       "0     BTC-USD   86338.743745        1      bid                  86333.33419   \n",
       "1     BTC-USD   86337.963105        1      bid                  86332.18331   \n",
       "2     BTC-USD     86327.7823        1      bid                   86322.8217   \n",
       "3     BTC-USD   86326.630695        1      bid                  86318.05153   \n",
       "4     BTC-USD   86326.983635        1      bid                  86320.68587   \n",
       "...       ...            ...      ...      ...                          ...   \n",
       "3619  BTC-USD    86104.81161        1      bid                  86097.62322   \n",
       "3620  BTC-USD    86109.36423        1      bid                  86106.72846   \n",
       "3621  BTC-USD  86111.7535285        1      bid                 86102.554457   \n",
       "3622  BTC-USD  86116.9402745        1      bid                 86112.672449   \n",
       "3623  BTC-USD    86123.41166        1      bid                   86112.9099   \n",
       "\n",
       "     sell_spread                           timestamp      price_ask side_ask  \\\n",
       "0     0.00006266 2025-03-07 23:26:49.591823235+00:00   86338.743745      ask   \n",
       "1     0.00006694 2025-03-07 23:26:50.719380159+00:00   86337.963105      ask   \n",
       "2     0.00005746 2025-03-07 23:26:51.843119525+00:00     86327.7823      ask   \n",
       "3     0.00009938 2025-03-07 23:26:52.973536748+00:00   86326.630695      ask   \n",
       "4     0.00007295 2025-03-07 23:26:54.097183180+00:00   86326.983635      ask   \n",
       "...          ...                                 ...            ...      ...   \n",
       "3619  0.00008348 2025-03-08 02:11:00.263753184+00:00    86104.81161      ask   \n",
       "3620  0.00003061 2025-03-08 02:11:01.409797448+00:00    86109.36423      ask   \n",
       "3621  0.00010683 2025-03-08 02:11:02.839372514+00:00  86111.7535285      ask   \n",
       "3622  0.00004956 2025-03-08 02:11:03.970464434+00:00  86116.9402745      ask   \n",
       "3623  0.00012194 2025-03-08 02:11:05.437790334+00:00    86123.41166      ask   \n",
       "\n",
       "     ask_inclusive_of_buy_spread  buy_spread  \n",
       "0                     86344.1533  0.00006266  \n",
       "1                     86343.7429  0.00006694  \n",
       "2                     86332.7429  0.00005746  \n",
       "3                    86335.20986  0.00009938  \n",
       "4                     86333.2814  0.00007295  \n",
       "...                          ...         ...  \n",
       "3619                       86112  0.00008348  \n",
       "3620                       86112  0.00003061  \n",
       "3621                  86120.9526  0.00010683  \n",
       "3622                  86121.2081  0.00004956  \n",
       "3623                 86133.91342  0.00012194  \n",
       "\n",
       "[3624 rows x 11 columns]"
      ],
      "text/html": [
       "<div>\n",
       "<style scoped>\n",
       "    .dataframe tbody tr th:only-of-type {\n",
       "        vertical-align: middle;\n",
       "    }\n",
       "\n",
       "    .dataframe tbody tr th {\n",
       "        vertical-align: top;\n",
       "    }\n",
       "\n",
       "    .dataframe thead th {\n",
       "        text-align: right;\n",
       "    }\n",
       "</style>\n",
       "<table border=\"1\" class=\"dataframe\">\n",
       "  <thead>\n",
       "    <tr style=\"text-align: right;\">\n",
       "      <th></th>\n",
       "      <th>symbol</th>\n",
       "      <th>price_bid</th>\n",
       "      <th>quantity</th>\n",
       "      <th>side_bid</th>\n",
       "      <th>bid_inclusive_of_sell_spread</th>\n",
       "      <th>sell_spread</th>\n",
       "      <th>timestamp</th>\n",
       "      <th>price_ask</th>\n",
       "      <th>side_ask</th>\n",
       "      <th>ask_inclusive_of_buy_spread</th>\n",
       "      <th>buy_spread</th>\n",
       "    </tr>\n",
       "  </thead>\n",
       "  <tbody>\n",
       "    <tr>\n",
       "      <th>0</th>\n",
       "      <td>BTC-USD</td>\n",
       "      <td>86338.743745</td>\n",
       "      <td>1</td>\n",
       "      <td>bid</td>\n",
       "      <td>86333.33419</td>\n",
       "      <td>0.00006266</td>\n",
       "      <td>2025-03-07 23:26:49.591823235+00:00</td>\n",
       "      <td>86338.743745</td>\n",
       "      <td>ask</td>\n",
       "      <td>86344.1533</td>\n",
       "      <td>0.00006266</td>\n",
       "    </tr>\n",
       "    <tr>\n",
       "      <th>1</th>\n",
       "      <td>BTC-USD</td>\n",
       "      <td>86337.963105</td>\n",
       "      <td>1</td>\n",
       "      <td>bid</td>\n",
       "      <td>86332.18331</td>\n",
       "      <td>0.00006694</td>\n",
       "      <td>2025-03-07 23:26:50.719380159+00:00</td>\n",
       "      <td>86337.963105</td>\n",
       "      <td>ask</td>\n",
       "      <td>86343.7429</td>\n",
       "      <td>0.00006694</td>\n",
       "    </tr>\n",
       "    <tr>\n",
       "      <th>2</th>\n",
       "      <td>BTC-USD</td>\n",
       "      <td>86327.7823</td>\n",
       "      <td>1</td>\n",
       "      <td>bid</td>\n",
       "      <td>86322.8217</td>\n",
       "      <td>0.00005746</td>\n",
       "      <td>2025-03-07 23:26:51.843119525+00:00</td>\n",
       "      <td>86327.7823</td>\n",
       "      <td>ask</td>\n",
       "      <td>86332.7429</td>\n",
       "      <td>0.00005746</td>\n",
       "    </tr>\n",
       "    <tr>\n",
       "      <th>3</th>\n",
       "      <td>BTC-USD</td>\n",
       "      <td>86326.630695</td>\n",
       "      <td>1</td>\n",
       "      <td>bid</td>\n",
       "      <td>86318.05153</td>\n",
       "      <td>0.00009938</td>\n",
       "      <td>2025-03-07 23:26:52.973536748+00:00</td>\n",
       "      <td>86326.630695</td>\n",
       "      <td>ask</td>\n",
       "      <td>86335.20986</td>\n",
       "      <td>0.00009938</td>\n",
       "    </tr>\n",
       "    <tr>\n",
       "      <th>4</th>\n",
       "      <td>BTC-USD</td>\n",
       "      <td>86326.983635</td>\n",
       "      <td>1</td>\n",
       "      <td>bid</td>\n",
       "      <td>86320.68587</td>\n",
       "      <td>0.00007295</td>\n",
       "      <td>2025-03-07 23:26:54.097183180+00:00</td>\n",
       "      <td>86326.983635</td>\n",
       "      <td>ask</td>\n",
       "      <td>86333.2814</td>\n",
       "      <td>0.00007295</td>\n",
       "    </tr>\n",
       "    <tr>\n",
       "      <th>...</th>\n",
       "      <td>...</td>\n",
       "      <td>...</td>\n",
       "      <td>...</td>\n",
       "      <td>...</td>\n",
       "      <td>...</td>\n",
       "      <td>...</td>\n",
       "      <td>...</td>\n",
       "      <td>...</td>\n",
       "      <td>...</td>\n",
       "      <td>...</td>\n",
       "      <td>...</td>\n",
       "    </tr>\n",
       "    <tr>\n",
       "      <th>3619</th>\n",
       "      <td>BTC-USD</td>\n",
       "      <td>86104.81161</td>\n",
       "      <td>1</td>\n",
       "      <td>bid</td>\n",
       "      <td>86097.62322</td>\n",
       "      <td>0.00008348</td>\n",
       "      <td>2025-03-08 02:11:00.263753184+00:00</td>\n",
       "      <td>86104.81161</td>\n",
       "      <td>ask</td>\n",
       "      <td>86112</td>\n",
       "      <td>0.00008348</td>\n",
       "    </tr>\n",
       "    <tr>\n",
       "      <th>3620</th>\n",
       "      <td>BTC-USD</td>\n",
       "      <td>86109.36423</td>\n",
       "      <td>1</td>\n",
       "      <td>bid</td>\n",
       "      <td>86106.72846</td>\n",
       "      <td>0.00003061</td>\n",
       "      <td>2025-03-08 02:11:01.409797448+00:00</td>\n",
       "      <td>86109.36423</td>\n",
       "      <td>ask</td>\n",
       "      <td>86112</td>\n",
       "      <td>0.00003061</td>\n",
       "    </tr>\n",
       "    <tr>\n",
       "      <th>3621</th>\n",
       "      <td>BTC-USD</td>\n",
       "      <td>86111.7535285</td>\n",
       "      <td>1</td>\n",
       "      <td>bid</td>\n",
       "      <td>86102.554457</td>\n",
       "      <td>0.00010683</td>\n",
       "      <td>2025-03-08 02:11:02.839372514+00:00</td>\n",
       "      <td>86111.7535285</td>\n",
       "      <td>ask</td>\n",
       "      <td>86120.9526</td>\n",
       "      <td>0.00010683</td>\n",
       "    </tr>\n",
       "    <tr>\n",
       "      <th>3622</th>\n",
       "      <td>BTC-USD</td>\n",
       "      <td>86116.9402745</td>\n",
       "      <td>1</td>\n",
       "      <td>bid</td>\n",
       "      <td>86112.672449</td>\n",
       "      <td>0.00004956</td>\n",
       "      <td>2025-03-08 02:11:03.970464434+00:00</td>\n",
       "      <td>86116.9402745</td>\n",
       "      <td>ask</td>\n",
       "      <td>86121.2081</td>\n",
       "      <td>0.00004956</td>\n",
       "    </tr>\n",
       "    <tr>\n",
       "      <th>3623</th>\n",
       "      <td>BTC-USD</td>\n",
       "      <td>86123.41166</td>\n",
       "      <td>1</td>\n",
       "      <td>bid</td>\n",
       "      <td>86112.9099</td>\n",
       "      <td>0.00012194</td>\n",
       "      <td>2025-03-08 02:11:05.437790334+00:00</td>\n",
       "      <td>86123.41166</td>\n",
       "      <td>ask</td>\n",
       "      <td>86133.91342</td>\n",
       "      <td>0.00012194</td>\n",
       "    </tr>\n",
       "  </tbody>\n",
       "</table>\n",
       "<p>3624 rows × 11 columns</p>\n",
       "</div>"
      ]
     },
     "execution_count": 35,
     "metadata": {},
     "output_type": "execute_result"
    }
   ],
   "execution_count": 35
  },
  {
   "metadata": {},
   "cell_type": "code",
   "outputs": [],
   "execution_count": null,
   "source": "",
   "id": "eb2524b10f97a8b2"
  }
 ],
 "metadata": {
  "kernelspec": {
   "display_name": "Python 3",
   "language": "python",
   "name": "python3"
  },
  "language_info": {
   "codemirror_mode": {
    "name": "ipython",
    "version": 2
   },
   "file_extension": ".py",
   "mimetype": "text/x-python",
   "name": "python",
   "nbconvert_exporter": "python",
   "pygments_lexer": "ipython2",
   "version": "2.7.6"
  }
 },
 "nbformat": 4,
 "nbformat_minor": 5
}
