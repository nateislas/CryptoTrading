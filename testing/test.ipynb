{
 "cells": [
  {
   "cell_type": "code",
   "id": "initial_id",
   "metadata": {
    "collapsed": true,
    "ExecuteTime": {
     "end_time": "2025-03-10T23:13:52.537978Z",
     "start_time": "2025-03-10T23:13:48.792521Z"
    }
   },
   "source": [
    "from src.robinhood_api.api_access import CryptoAPITrading\n",
    "import pandas as pd\n",
    "\n",
    "%load_ext autoreload\n",
    "%autoreload 2"
   ],
   "outputs": [
    {
     "name": "stderr",
     "output_type": "stream",
     "text": [
      "2025-03-10 19:13:51,665 - INFO - NumExpr defaulting to 8 threads.\n"
     ]
    },
    {
     "name": "stdout",
     "output_type": "stream",
     "text": [
      "The autoreload extension is already loaded. To reload it, use:\n",
      "  %reload_ext autoreload\n"
     ]
    }
   ],
   "execution_count": 5
  },
  {
   "cell_type": "code",
   "source": [
    "# Create an instance of the CryptoAPITrading which accesses the Robinhood API\n",
    "api_trading_client = CryptoAPITrading()\n",
    "\n",
    "api_trading_client.account.get_account()"
   ],
   "metadata": {
    "collapsed": false,
    "ExecuteTime": {
     "end_time": "2025-03-07T23:46:42.787258Z",
     "start_time": "2025-03-07T23:46:42.393509Z"
    }
   },
   "id": "cba58354ad630e44",
   "outputs": [
    {
     "data": {
      "text/plain": [
       "{'account_number': '311061556262',\n",
       " 'status': 'active',\n",
       " 'buying_power': '1.4400',\n",
       " 'buying_power_currency': 'USD'}"
      ]
     },
     "execution_count": 26,
     "metadata": {},
     "output_type": "execute_result"
    }
   ],
   "execution_count": 26
  },
  {
   "cell_type": "code",
   "source": "api_trading_client.account.get_holdings()",
   "metadata": {
    "collapsed": false,
    "ExecuteTime": {
     "end_time": "2025-03-07T23:46:45.874043Z",
     "start_time": "2025-03-07T23:46:45.661083Z"
    }
   },
   "id": "88c51bb126f2c1d2",
   "outputs": [
    {
     "data": {
      "text/plain": [
       "{'next': None,\n",
       " 'previous': None,\n",
       " 'results': [{'account_number': '311061556262',\n",
       "   'asset_code': 'PEPE',\n",
       "   'total_quantity': '115412.000000000000000000',\n",
       "   'quantity_available_for_trading': '115412.000000000000000000'},\n",
       "  {'account_number': '311061556262',\n",
       "   'asset_code': 'AVAX',\n",
       "   'total_quantity': '0.019000000000000000',\n",
       "   'quantity_available_for_trading': '0.019000000000000000'}]}"
      ]
     },
     "execution_count": 27,
     "metadata": {},
     "output_type": "execute_result"
    }
   ],
   "execution_count": 27
  },
  {
   "metadata": {
    "ExecuteTime": {
     "end_time": "2025-03-07T23:46:47.910869Z",
     "start_time": "2025-03-07T23:46:47.717671Z"
    }
   },
   "cell_type": "code",
   "source": [
    "# ask_inclusive_of_buy_spread is the market buy\n",
    "# price is the price that robinhood shows\n",
    "\n",
    "# want to make a chart that updates every 10 seconds wit the price\n",
    "\n",
    "bid, ask = api_trading_client.market_data.get_estimated_price(symbol=\"BTC-USD\", side=\"both\", quantity=1.0)['results']"
   ],
   "id": "e0407e006a418742",
   "outputs": [],
   "execution_count": 28
  },
  {
   "metadata": {
    "ExecuteTime": {
     "end_time": "2025-03-10T23:15:05.266273Z",
     "start_time": "2025-03-10T23:15:05.203400Z"
    }
   },
   "cell_type": "code",
   "source": [
    "import os\n",
    "import glob\n",
    "\n",
    "def load_data(ticker, interval, start_date=None, end_date=None, project_root='/Users/nathanielislas/PycharmProjects/CryptoTrading/'):\n",
    "    # Get project root path\n",
    "    #project_root = os.path.abspath(os.path.join(os.path.dirname(__file__), '..'))\n",
    "    \n",
    "    # Define data path relative to project root\n",
    "    path_pattern = os.path.join(project_root, 'data', ticker, interval, '*.parquet')\n",
    "    files = glob.glob(path_pattern)\n",
    "\n",
    "    df_list = []\n",
    "\n",
    "    for file in files:\n",
    "        date = os.path.basename(file).split('.')[0]\n",
    "\n",
    "        # Load file if within date range or if no date range is specified\n",
    "        if (start_date is None or end_date is None) or (start_date <= date <= end_date):\n",
    "            df = pd.read_parquet(file)\n",
    "            df_list.append(df)\n",
    "\n",
    "    # Check if any data was loaded\n",
    "    if not df_list:\n",
    "        print(f\"No data found for {ticker} in the specified date range.\")\n",
    "        return pd.DataFrame()  # Return empty DataFrame if no data\n",
    "\n",
    "    # Concatenate and return combined DataFrame\n",
    "    return pd.concat(df_list).reset_index(drop=True)"
   ],
   "id": "480705153f987ddd",
   "outputs": [],
   "execution_count": 12
  },
  {
   "metadata": {
    "ExecuteTime": {
     "end_time": "2025-03-10T23:15:06.012691Z",
     "start_time": "2025-03-10T23:15:05.732339Z"
    }
   },
   "cell_type": "code",
   "source": [
    "data = load_data(ticker='BTC-USD', interval='1m')\n",
    "data"
   ],
   "id": "4f76df6a0b5f7fa7",
   "outputs": [
    {
     "data": {
      "text/plain": [
       "      symbol      price_bid quantity side_bid bid_inclusive_of_sell_spread  \\\n",
       "0    BTC-USD   78444.101518        1      bid                   78442.3973   \n",
       "1    BTC-USD  78542.3358165        1      bid                   78532.2312   \n",
       "2    BTC-USD   78421.529816        1      bid                   78418.8476   \n",
       "3    BTC-USD   78427.363638        1      bid                   78429.7697   \n",
       "4    BTC-USD   78352.334912        1      bid                   78352.4104   \n",
       "..       ...            ...      ...      ...                          ...   \n",
       "244  BTC-USD   79649.583755        1      bid                   79647.4871   \n",
       "245  BTC-USD   79596.251392        1      bid                   79592.4605   \n",
       "246  BTC-USD  79549.9234975        1      bid                   79551.9399   \n",
       "247  BTC-USD   79502.658382        1      bid                   79505.5938   \n",
       "248  BTC-USD  79468.5476565        1      bid                   79468.4605   \n",
       "\n",
       "    sell_spread                           timestamp      price_ask side_ask  \\\n",
       "0    0.00002173 2025-03-10 18:20:12.133259754+00:00   78444.101518      ask   \n",
       "1    0.00012865 2025-03-10 18:21:12.416935357+00:00  78542.3358165      ask   \n",
       "2     0.0000342 2025-03-10 18:22:12.672952476+00:00   78421.529816      ask   \n",
       "3    0.00003068 2025-03-10 18:23:13.032284341+00:00   78427.363638      ask   \n",
       "4    0.00000096 2025-03-10 18:24:13.283903627+00:00   78352.334912      ask   \n",
       "..          ...                                 ...            ...      ...   \n",
       "244  0.00002632 2025-03-10 22:55:50.064633444+00:00   79649.583755      ask   \n",
       "245  0.00004763 2025-03-10 22:56:50.333976251+00:00   79596.251392      ask   \n",
       "246  0.00002535 2025-03-10 22:57:50.589582660+00:00  79549.9234975      ask   \n",
       "247  0.00003692 2025-03-10 22:58:50.870716581+00:00   79502.658382      ask   \n",
       "248   0.0000011 2025-03-10 22:59:51.013782638+00:00  79468.5476565      ask   \n",
       "\n",
       "    ask_inclusive_of_buy_spread  buy_spread        date  \n",
       "0                  78445.805736  0.00002173  2025-03-10  \n",
       "1                  78552.440433  0.00012865  2025-03-10  \n",
       "2                  78424.212032   0.0000342  2025-03-10  \n",
       "3                  78424.957576  0.00003068  2025-03-10  \n",
       "4                  78352.259424  0.00000096  2025-03-10  \n",
       "..                          ...         ...         ...  \n",
       "244                 79651.68041  0.00002632  2025-03-10  \n",
       "245                79600.042284  0.00004763  2025-03-10  \n",
       "246                79547.907095  0.00002535  2025-03-10  \n",
       "247                79499.722964  0.00003692  2025-03-10  \n",
       "248                79468.634813   0.0000011  2025-03-10  \n",
       "\n",
       "[249 rows x 12 columns]"
      ],
      "text/html": [
       "<div>\n",
       "<style scoped>\n",
       "    .dataframe tbody tr th:only-of-type {\n",
       "        vertical-align: middle;\n",
       "    }\n",
       "\n",
       "    .dataframe tbody tr th {\n",
       "        vertical-align: top;\n",
       "    }\n",
       "\n",
       "    .dataframe thead th {\n",
       "        text-align: right;\n",
       "    }\n",
       "</style>\n",
       "<table border=\"1\" class=\"dataframe\">\n",
       "  <thead>\n",
       "    <tr style=\"text-align: right;\">\n",
       "      <th></th>\n",
       "      <th>symbol</th>\n",
       "      <th>price_bid</th>\n",
       "      <th>quantity</th>\n",
       "      <th>side_bid</th>\n",
       "      <th>bid_inclusive_of_sell_spread</th>\n",
       "      <th>sell_spread</th>\n",
       "      <th>timestamp</th>\n",
       "      <th>price_ask</th>\n",
       "      <th>side_ask</th>\n",
       "      <th>ask_inclusive_of_buy_spread</th>\n",
       "      <th>buy_spread</th>\n",
       "      <th>date</th>\n",
       "    </tr>\n",
       "  </thead>\n",
       "  <tbody>\n",
       "    <tr>\n",
       "      <th>0</th>\n",
       "      <td>BTC-USD</td>\n",
       "      <td>78444.101518</td>\n",
       "      <td>1</td>\n",
       "      <td>bid</td>\n",
       "      <td>78442.3973</td>\n",
       "      <td>0.00002173</td>\n",
       "      <td>2025-03-10 18:20:12.133259754+00:00</td>\n",
       "      <td>78444.101518</td>\n",
       "      <td>ask</td>\n",
       "      <td>78445.805736</td>\n",
       "      <td>0.00002173</td>\n",
       "      <td>2025-03-10</td>\n",
       "    </tr>\n",
       "    <tr>\n",
       "      <th>1</th>\n",
       "      <td>BTC-USD</td>\n",
       "      <td>78542.3358165</td>\n",
       "      <td>1</td>\n",
       "      <td>bid</td>\n",
       "      <td>78532.2312</td>\n",
       "      <td>0.00012865</td>\n",
       "      <td>2025-03-10 18:21:12.416935357+00:00</td>\n",
       "      <td>78542.3358165</td>\n",
       "      <td>ask</td>\n",
       "      <td>78552.440433</td>\n",
       "      <td>0.00012865</td>\n",
       "      <td>2025-03-10</td>\n",
       "    </tr>\n",
       "    <tr>\n",
       "      <th>2</th>\n",
       "      <td>BTC-USD</td>\n",
       "      <td>78421.529816</td>\n",
       "      <td>1</td>\n",
       "      <td>bid</td>\n",
       "      <td>78418.8476</td>\n",
       "      <td>0.0000342</td>\n",
       "      <td>2025-03-10 18:22:12.672952476+00:00</td>\n",
       "      <td>78421.529816</td>\n",
       "      <td>ask</td>\n",
       "      <td>78424.212032</td>\n",
       "      <td>0.0000342</td>\n",
       "      <td>2025-03-10</td>\n",
       "    </tr>\n",
       "    <tr>\n",
       "      <th>3</th>\n",
       "      <td>BTC-USD</td>\n",
       "      <td>78427.363638</td>\n",
       "      <td>1</td>\n",
       "      <td>bid</td>\n",
       "      <td>78429.7697</td>\n",
       "      <td>0.00003068</td>\n",
       "      <td>2025-03-10 18:23:13.032284341+00:00</td>\n",
       "      <td>78427.363638</td>\n",
       "      <td>ask</td>\n",
       "      <td>78424.957576</td>\n",
       "      <td>0.00003068</td>\n",
       "      <td>2025-03-10</td>\n",
       "    </tr>\n",
       "    <tr>\n",
       "      <th>4</th>\n",
       "      <td>BTC-USD</td>\n",
       "      <td>78352.334912</td>\n",
       "      <td>1</td>\n",
       "      <td>bid</td>\n",
       "      <td>78352.4104</td>\n",
       "      <td>0.00000096</td>\n",
       "      <td>2025-03-10 18:24:13.283903627+00:00</td>\n",
       "      <td>78352.334912</td>\n",
       "      <td>ask</td>\n",
       "      <td>78352.259424</td>\n",
       "      <td>0.00000096</td>\n",
       "      <td>2025-03-10</td>\n",
       "    </tr>\n",
       "    <tr>\n",
       "      <th>...</th>\n",
       "      <td>...</td>\n",
       "      <td>...</td>\n",
       "      <td>...</td>\n",
       "      <td>...</td>\n",
       "      <td>...</td>\n",
       "      <td>...</td>\n",
       "      <td>...</td>\n",
       "      <td>...</td>\n",
       "      <td>...</td>\n",
       "      <td>...</td>\n",
       "      <td>...</td>\n",
       "      <td>...</td>\n",
       "    </tr>\n",
       "    <tr>\n",
       "      <th>244</th>\n",
       "      <td>BTC-USD</td>\n",
       "      <td>79649.583755</td>\n",
       "      <td>1</td>\n",
       "      <td>bid</td>\n",
       "      <td>79647.4871</td>\n",
       "      <td>0.00002632</td>\n",
       "      <td>2025-03-10 22:55:50.064633444+00:00</td>\n",
       "      <td>79649.583755</td>\n",
       "      <td>ask</td>\n",
       "      <td>79651.68041</td>\n",
       "      <td>0.00002632</td>\n",
       "      <td>2025-03-10</td>\n",
       "    </tr>\n",
       "    <tr>\n",
       "      <th>245</th>\n",
       "      <td>BTC-USD</td>\n",
       "      <td>79596.251392</td>\n",
       "      <td>1</td>\n",
       "      <td>bid</td>\n",
       "      <td>79592.4605</td>\n",
       "      <td>0.00004763</td>\n",
       "      <td>2025-03-10 22:56:50.333976251+00:00</td>\n",
       "      <td>79596.251392</td>\n",
       "      <td>ask</td>\n",
       "      <td>79600.042284</td>\n",
       "      <td>0.00004763</td>\n",
       "      <td>2025-03-10</td>\n",
       "    </tr>\n",
       "    <tr>\n",
       "      <th>246</th>\n",
       "      <td>BTC-USD</td>\n",
       "      <td>79549.9234975</td>\n",
       "      <td>1</td>\n",
       "      <td>bid</td>\n",
       "      <td>79551.9399</td>\n",
       "      <td>0.00002535</td>\n",
       "      <td>2025-03-10 22:57:50.589582660+00:00</td>\n",
       "      <td>79549.9234975</td>\n",
       "      <td>ask</td>\n",
       "      <td>79547.907095</td>\n",
       "      <td>0.00002535</td>\n",
       "      <td>2025-03-10</td>\n",
       "    </tr>\n",
       "    <tr>\n",
       "      <th>247</th>\n",
       "      <td>BTC-USD</td>\n",
       "      <td>79502.658382</td>\n",
       "      <td>1</td>\n",
       "      <td>bid</td>\n",
       "      <td>79505.5938</td>\n",
       "      <td>0.00003692</td>\n",
       "      <td>2025-03-10 22:58:50.870716581+00:00</td>\n",
       "      <td>79502.658382</td>\n",
       "      <td>ask</td>\n",
       "      <td>79499.722964</td>\n",
       "      <td>0.00003692</td>\n",
       "      <td>2025-03-10</td>\n",
       "    </tr>\n",
       "    <tr>\n",
       "      <th>248</th>\n",
       "      <td>BTC-USD</td>\n",
       "      <td>79468.5476565</td>\n",
       "      <td>1</td>\n",
       "      <td>bid</td>\n",
       "      <td>79468.4605</td>\n",
       "      <td>0.0000011</td>\n",
       "      <td>2025-03-10 22:59:51.013782638+00:00</td>\n",
       "      <td>79468.5476565</td>\n",
       "      <td>ask</td>\n",
       "      <td>79468.634813</td>\n",
       "      <td>0.0000011</td>\n",
       "      <td>2025-03-10</td>\n",
       "    </tr>\n",
       "  </tbody>\n",
       "</table>\n",
       "<p>249 rows × 12 columns</p>\n",
       "</div>"
      ]
     },
     "execution_count": 13,
     "metadata": {},
     "output_type": "execute_result"
    }
   ],
   "execution_count": 13
  },
  {
   "metadata": {
    "ExecuteTime": {
     "end_time": "2025-03-10T23:22:50.204253Z",
     "start_time": "2025-03-10T23:22:49.939988Z"
    }
   },
   "cell_type": "code",
   "source": [
    "# Load the Parquet file\n",
    "file_path = '/Users/nathanielislas/PycharmProjects/CryptoTrading/data/BTC-USD/1m/2025-03-10.parquet'\n",
    "df = pd.read_parquet(file_path)\n",
    "\n",
    "# Get the size of the Parquet file in KB\n",
    "parquet_size = os.path.getsize(file_path) / 1024  # Convert bytes to KB\n",
    "\n",
    "# Save as CSV\n",
    "csv_file_path = '/Users/nathanielislas/PycharmProjects/CryptoTrading/data/BTC-USD/1m/2025-03-10.csv'\n",
    "df.to_csv(csv_file_path, index=False)\n",
    "\n",
    "# Get the size of the CSV file in KB\n",
    "csv_size = os.path.getsize(csv_file_path) / 1024  # Convert bytes to KB\n",
    "\n",
    "# Print the results\n",
    "print(f\"Parquet File Size: {parquet_size:.2f} KB\")\n",
    "print(f\"CSV File Size: {csv_size:.2f} KB\")\n",
    "print(f\"CSV is approximately {csv_size / parquet_size:.2f} times larger than Parquet.\")"
   ],
   "id": "eb2524b10f97a8b2",
   "outputs": [
    {
     "name": "stdout",
     "output_type": "stream",
     "text": [
      "Parquet File Size: 19.35 KB\n",
      "CSV File Size: 33.58 KB\n",
      "CSV is approximately 1.74 times larger than Parquet.\n"
     ]
    }
   ],
   "execution_count": 14
  },
  {
   "metadata": {
    "ExecuteTime": {
     "end_time": "2025-03-10T23:24:32.841391Z",
     "start_time": "2025-03-10T23:24:28.119205Z"
    }
   },
   "cell_type": "code",
   "source": [
    "# Define file paths\n",
    "parquet_file = '/Users/nathanielislas/PycharmProjects/CryptoTrading/data/BTC-USD/1m/2025-03-10.parquet'\n",
    "csv_file = '/Users/nathanielislas/PycharmProjects/CryptoTrading/data/BTC-USD/1m/2025-03-10.csv'\n",
    "\n",
    "# Define the number of iterations\n",
    "iterations = 1000\n",
    "parquet_times = []\n",
    "csv_times = []\n",
    "\n",
    "# Measure time to read Parquet file multiple times\n",
    "for _ in range(iterations):\n",
    "    start_time = time.time()\n",
    "    pd.read_parquet(parquet_file)\n",
    "    parquet_times.append(time.time() - start_time)\n",
    "\n",
    "# Measure time to read CSV file multiple times\n",
    "for _ in range(iterations):\n",
    "    start_time = time.time()\n",
    "    pd.read_csv(csv_file)\n",
    "    csv_times.append(time.time() - start_time)\n",
    "\n",
    "# Calculate average read times\n",
    "avg_parquet_time = sum(parquet_times) / iterations\n",
    "avg_csv_time = sum(csv_times) / iterations\n",
    "\n",
    "# Print results\n",
    "print(f\"Average Parquet Read Time: {avg_parquet_time:.4f} seconds\")\n",
    "print(f\"Average CSV Read Time: {avg_csv_time:.4f} seconds\")\n",
    "print(f\"CSV is approximately {avg_csv_time / avg_parquet_time:.2f} times slower than Parquet.\")"
   ],
   "id": "e5d1b6a621213e46",
   "outputs": [
    {
     "name": "stdout",
     "output_type": "stream",
     "text": [
      "Average Parquet Read Time: 0.0034 seconds\n",
      "Average CSV Read Time: 0.0012 seconds\n",
      "CSV is approximately 0.36 times slower than Parquet.\n"
     ]
    }
   ],
   "execution_count": 18
  },
  {
   "metadata": {},
   "cell_type": "code",
   "outputs": [],
   "execution_count": null,
   "source": "",
   "id": "6e7e93836534604a"
  }
 ],
 "metadata": {
  "kernelspec": {
   "display_name": "Python 3",
   "language": "python",
   "name": "python3"
  },
  "language_info": {
   "codemirror_mode": {
    "name": "ipython",
    "version": 2
   },
   "file_extension": ".py",
   "mimetype": "text/x-python",
   "name": "python",
   "nbconvert_exporter": "python",
   "pygments_lexer": "ipython2",
   "version": "2.7.6"
  }
 },
 "nbformat": 4,
 "nbformat_minor": 5
}
